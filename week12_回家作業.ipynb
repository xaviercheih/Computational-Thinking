{
  "nbformat": 4,
  "nbformat_minor": 0,
  "metadata": {
    "colab": {
      "name": "week12_回家作業.ipynb",
      "provenance": [],
      "authorship_tag": "ABX9TyO7HqWHMBaP4vvAR7LJ1/Gv",
      "include_colab_link": true
    },
    "kernelspec": {
      "name": "python3",
      "display_name": "Python 3"
    }
  },
  "cells": [
    {
      "cell_type": "markdown",
      "metadata": {
        "id": "view-in-github",
        "colab_type": "text"
      },
      "source": [
        "<a href=\"https://colab.research.google.com/github/xaviercheih/Computational-Thinking/blob/master/week12_%E5%9B%9E%E5%AE%B6%E4%BD%9C%E6%A5%AD.ipynb\" target=\"_parent\"><img src=\"https://colab.research.google.com/assets/colab-badge.svg\" alt=\"Open In Colab\"/></a>"
      ]
    },
    {
      "cell_type": "code",
      "metadata": {
        "id": "Ib7TbIyExgHK"
      },
      "source": [
        "project_title =['電影購票系統']\n",
        "name_list = ['梁薺','陳漢杰','蔡奕竹']\n",
        "number_list =['A106260049','A106260065','A108310033']\n",
        "duty_list = ['想法','口頭語言','程式撰寫'] # 初步擬案\n",
        "load_list = ['33%','33%','34%'] # 初步擬案"
      ],
      "execution_count": 3,
      "outputs": []
    },
    {
      "cell_type": "code",
      "metadata": {
        "colab": {
          "base_uri": "https://localhost:8080/"
        },
        "id": "o1nJeEj41WCm",
        "outputId": "89354986-4de6-4b00-9871-baaf23fbd5d9"
      },
      "source": [
        "best_lab = list((project_title, name_list, number_list, duty_list, load_list))\n",
        "print(best_lab)"
      ],
      "execution_count": 4,
      "outputs": [
        {
          "output_type": "stream",
          "text": [
            "[['電影購票系統'], ['梁薺', '陳漢杰', '蔡奕竹'], ['A106260049', 'A106260065', 'A108310033'], ['想法', '口頭語言', '程式撰寫'], ['33%', '33%', '34%']]\n"
          ],
          "name": "stdout"
        }
      ]
    },
    {
      "cell_type": "code",
      "metadata": {
        "colab": {
          "base_uri": "https://localhost:8080/"
        },
        "id": "xfcqYeGu2BJb",
        "outputId": "18e81a78-038c-41f9-dfa5-245db91bc1c1"
      },
      "source": [
        "print(best_lab[1:5])"
      ],
      "execution_count": 8,
      "outputs": [
        {
          "output_type": "stream",
          "text": [
            "[['梁薺', '陳漢杰', '蔡奕竹'], ['A106260049', 'A106260065', 'A108310033'], ['想法', '口頭語言', '程式撰寫'], ['33%', '33%', '34%']]\n"
          ],
          "name": "stdout"
        }
      ]
    },
    {
      "cell_type": "code",
      "metadata": {
        "colab": {
          "base_uri": "https://localhost:8080/"
        },
        "id": "WHC8EwhS3WCY",
        "outputId": "1325f499-e2f6-4a68-e134-7ad1916c08c6"
      },
      "source": [
        "print(name_list[0])# 組長\n",
        "print(number_list[0])# 組長學號\n",
        "print(duty_list[0])# 組長負責任務\n",
        "print(load_list[0])# 組長比重"
      ],
      "execution_count": 11,
      "outputs": [
        {
          "output_type": "stream",
          "text": [
            "梁薺\n",
            "A106260049\n",
            "想法\n",
            "33%\n"
          ],
          "name": "stdout"
        }
      ]
    }
  ]
}