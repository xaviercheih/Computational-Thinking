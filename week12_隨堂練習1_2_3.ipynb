{
  "nbformat": 4,
  "nbformat_minor": 0,
  "metadata": {
    "colab": {
      "name": "week12_隨堂練習1.2.3.ipynb",
      "provenance": [],
      "authorship_tag": "ABX9TyMwd01IveZ4+0K787UQCBiB",
      "include_colab_link": true
    },
    "kernelspec": {
      "name": "python3",
      "display_name": "Python 3"
    }
  },
  "cells": [
    {
      "cell_type": "markdown",
      "metadata": {
        "id": "view-in-github",
        "colab_type": "text"
      },
      "source": [
        "<a href=\"https://colab.research.google.com/github/xaviercheih/Computational-Thinking/blob/master/week12_%E9%9A%A8%E5%A0%82%E7%B7%B4%E7%BF%921_2_3.ipynb\" target=\"_parent\"><img src=\"https://colab.research.google.com/assets/colab-badge.svg\" alt=\"Open In Colab\"/></a>"
      ]
    },
    {
      "cell_type": "code",
      "metadata": {
        "id": "CHpjsMBdcnAM"
      },
      "source": [
        "shopping_list = ['紅茶','奶茶','綠茶','果汁','牛奶']"
      ],
      "execution_count": 3,
      "outputs": []
    },
    {
      "cell_type": "code",
      "metadata": {
        "colab": {
          "base_uri": "https://localhost:8080/"
        },
        "id": "YCWi-VfadtEr",
        "outputId": "16d4a5a3-22cd-4fd4-ff91-8a32505c528f"
      },
      "source": [
        "print(shopping_list)"
      ],
      "execution_count": 4,
      "outputs": [
        {
          "output_type": "stream",
          "text": [
            "['紅茶', '奶茶', '綠茶', '果汁', '牛奶']\n"
          ],
          "name": "stdout"
        }
      ]
    },
    {
      "cell_type": "code",
      "metadata": {
        "colab": {
          "base_uri": "https://localhost:8080/"
        },
        "id": "kRLjXfDtfUkR",
        "outputId": "5ea914ee-5ffa-429c-f06e-c46117f88b13"
      },
      "source": [
        "print(shopping_list[0])"
      ],
      "execution_count": 5,
      "outputs": [
        {
          "output_type": "stream",
          "text": [
            "紅茶\n"
          ],
          "name": "stdout"
        }
      ]
    },
    {
      "cell_type": "code",
      "metadata": {
        "colab": {
          "base_uri": "https://localhost:8080/"
        },
        "id": "ySEo7XUXfh5x",
        "outputId": "2b55c68e-fb25-4306-e3a6-c481f0fe31b8"
      },
      "source": [
        "shopping_list[1] = '花茶'\n",
        "print(shopping_list)"
      ],
      "execution_count": 6,
      "outputs": [
        {
          "output_type": "stream",
          "text": [
            "['紅茶', '花茶', '綠茶', '果汁', '牛奶']\n"
          ],
          "name": "stdout"
        }
      ]
    },
    {
      "cell_type": "code",
      "metadata": {
        "colab": {
          "base_uri": "https://localhost:8080/"
        },
        "id": "6UGrPOA1f070",
        "outputId": "3693ca7e-5275-4c22-8e26-5a9d9acbd7c0"
      },
      "source": [
        "print(shopping_list[1:3])"
      ],
      "execution_count": 7,
      "outputs": [
        {
          "output_type": "stream",
          "text": [
            "['花茶', '綠茶']\n"
          ],
          "name": "stdout"
        }
      ]
    },
    {
      "cell_type": "code",
      "metadata": {
        "id": "YSyxnMmVgk5R"
      },
      "source": [
        "season = \"1995-1996\"\n",
        "team = \"Chicago Bulls\"\n",
        "coach = \"Phil Jackson\"\n",
        "records = [72, 10]\n",
        "starting = [\"Ron Harper\", \"Michael Jordan\", \"Scottie Pippen\", \"Dennis Rodman\", \"Luc Longley\"]\n",
        "champion = True"
      ],
      "execution_count": 8,
      "outputs": []
    },
    {
      "cell_type": "code",
      "metadata": {
        "colab": {
          "base_uri": "https://localhost:8080/"
        },
        "id": "D-TQxe7chpKe",
        "outputId": "92ae1dbb-6b51-4a13-a8b2-bd3aa98d36f3"
      },
      "source": [
        "best_NBA = list((season, team, coach, records, starting,champion))\n",
        "print(best_NBA)"
      ],
      "execution_count": 9,
      "outputs": [
        {
          "output_type": "stream",
          "text": [
            "['1995-1996', 'Chicago Bulls', 'Phil Jackson', [72, 10], ['Ron Harper', 'Michael Jordan', 'Scottie Pippen', 'Dennis Rodman', 'Luc Longley'], True]\n"
          ],
          "name": "stdout"
        }
      ]
    },
    {
      "cell_type": "code",
      "metadata": {
        "colab": {
          "base_uri": "https://localhost:8080/"
        },
        "id": "f0eqhyYChyfr",
        "outputId": "b85dab1e-d342-48c7-f317-6943199c6fec"
      },
      "source": [
        "print(type(best_NBA))"
      ],
      "execution_count": 10,
      "outputs": [
        {
          "output_type": "stream",
          "text": [
            "<class 'list'>\n"
          ],
          "name": "stdout"
        }
      ]
    },
    {
      "cell_type": "code",
      "metadata": {
        "colab": {
          "base_uri": "https://localhost:8080/"
        },
        "id": "fbY4EpHOh59R",
        "outputId": "8e628e8e-4259-4ad3-d59c-f7d0a45b1a9c"
      },
      "source": [
        "print(best_NBA[-2])\n",
        "print(best_NBA[1:4])"
      ],
      "execution_count": 11,
      "outputs": [
        {
          "output_type": "stream",
          "text": [
            "['Ron Harper', 'Michael Jordan', 'Scottie Pippen', 'Dennis Rodman', 'Luc Longley']\n",
            "['Chicago Bulls', 'Phil Jackson', [72, 10]]\n"
          ],
          "name": "stdout"
        }
      ]
    },
    {
      "cell_type": "code",
      "metadata": {
        "id": "JRWk40ahpoRi"
      },
      "source": [
        "# [0,1,2,3,4]\n",
        "a = range(5) # range(0,5,1)"
      ],
      "execution_count": 12,
      "outputs": []
    },
    {
      "cell_type": "code",
      "metadata": {
        "colab": {
          "base_uri": "https://localhost:8080/"
        },
        "id": "0OIOAZ_Fp0UF",
        "outputId": "06ced5e0-cf9f-44bf-8f86-7f981d18a9f5"
      },
      "source": [
        "print(a)"
      ],
      "execution_count": 13,
      "outputs": [
        {
          "output_type": "stream",
          "text": [
            "range(0, 5)\n"
          ],
          "name": "stdout"
        }
      ]
    },
    {
      "cell_type": "code",
      "metadata": {
        "colab": {
          "base_uri": "https://localhost:8080/"
        },
        "id": "xtKlmvxCp6dp",
        "outputId": "3840f0fa-b771-475a-c768-cad0c7750392"
      },
      "source": [
        "# [2,3,4,5]\n",
        "b = range(2, 6) #range(2,6,1)\n",
        "print(b[0], b[1], b[2], b[3])"
      ],
      "execution_count": 15,
      "outputs": [
        {
          "output_type": "stream",
          "text": [
            "2 3 4 5\n"
          ],
          "name": "stdout"
        }
      ]
    },
    {
      "cell_type": "code",
      "metadata": {
        "colab": {
          "base_uri": "https://localhost:8080/"
        },
        "id": "4Pfvn5Z_qCmN",
        "outputId": "69cd4f3c-46d8-4f68-f122-55cf9d36d170"
      },
      "source": [
        "# [2,5,8]\n",
        "c = range(2, 10, 3)\n",
        "print(c[0], c[1], c[2])"
      ],
      "execution_count": 16,
      "outputs": [
        {
          "output_type": "stream",
          "text": [
            "2 5 8\n"
          ],
          "name": "stdout"
        }
      ]
    },
    {
      "cell_type": "code",
      "metadata": {
        "colab": {
          "base_uri": "https://localhost:8080/"
        },
        "id": "WKj8KqX2qKp8",
        "outputId": "5ffbaa2b-39c3-4981-db4c-68249e4400d4"
      },
      "source": [
        "# [10,8,6,4]\n",
        "d = range(10, 3, -2)\n",
        "print(d[0], d[1], d[2], d[3])"
      ],
      "execution_count": 17,
      "outputs": [
        {
          "output_type": "stream",
          "text": [
            "10 8 6 4\n"
          ],
          "name": "stdout"
        }
      ]
    },
    {
      "cell_type": "code",
      "metadata": {
        "colab": {
          "base_uri": "https://localhost:8080/"
        },
        "id": "c-U_EVcTuZjT",
        "outputId": "a56ca0ea-eef8-4f5c-a01e-ed3b21a41b97"
      },
      "source": [
        "# [0,1,2,3,4,5,6,7,8,9]\n",
        "a = range(10)\n",
        "print(a)\n",
        "range(0, 10)\n",
        "print(a[0], a[1], a[2], a[3], a[4], a[5], a[6], a[7], a[8], a[9])"
      ],
      "execution_count": 18,
      "outputs": [
        {
          "output_type": "stream",
          "text": [
            "range(0, 10)\n",
            "0 1 2 3 4 5 6 7 8 9\n"
          ],
          "name": "stdout"
        }
      ]
    },
    {
      "cell_type": "code",
      "metadata": {
        "colab": {
          "base_uri": "https://localhost:8080/"
        },
        "id": "u2rpZQRovICf",
        "outputId": "fd03a2ca-6762-45e4-a329-1533a148df5f"
      },
      "source": [
        "# [0,2,4,6,8]\n",
        "b = range(0,9,2)\n",
        "print(b)\n",
        "range(0, 9)\n",
        "print(b[0], b[1], b[2], b[3], b[4])"
      ],
      "execution_count": 19,
      "outputs": [
        {
          "output_type": "stream",
          "text": [
            "range(0, 9, 2)\n",
            "0 2 4 6 8\n"
          ],
          "name": "stdout"
        }
      ]
    },
    {
      "cell_type": "code",
      "metadata": {
        "colab": {
          "base_uri": "https://localhost:8080/"
        },
        "id": "MvKOU338vs9c",
        "outputId": "0b8053a7-6fb9-4d48-cc0f-0a69bb5e64ef"
      },
      "source": [
        "# [5,7,9]\n",
        "c = range(5,10,2)\n",
        "print(c)\n",
        "range(5, 10)\n",
        "print(c[0], c[1], c[2])"
      ],
      "execution_count": 20,
      "outputs": [
        {
          "output_type": "stream",
          "text": [
            "range(5, 10, 2)\n",
            "5 7 9\n"
          ],
          "name": "stdout"
        }
      ]
    },
    {
      "cell_type": "code",
      "metadata": {
        "colab": {
          "base_uri": "https://localhost:8080/"
        },
        "id": "dgvCUWQtv9_o",
        "outputId": "c883b618-4b64-4cd8-d6fc-e27dd4d9ca71"
      },
      "source": [
        "# [0, -1, -2, -3, -4, -5, -6, -7, -8, -9]\n",
        "d = range(0,-10,-1)\n",
        "print(d)\n",
        "range(0, -10, -1)\n",
        "print(d[0], d[1], d[2], d[3], d[4], d[5], d[6], d[7], d[8], d[9], )"
      ],
      "execution_count": 25,
      "outputs": [
        {
          "output_type": "stream",
          "text": [
            "range(0, -10, -1)\n",
            "0 -1 -2 -3 -4 -5 -6 -7 -8 -9\n"
          ],
          "name": "stdout"
        }
      ]
    }
  ]
}