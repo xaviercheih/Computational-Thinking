{
  "nbformat": 4,
  "nbformat_minor": 0,
  "metadata": {
    "colab": {
      "name": "week14.ipynb",
      "provenance": [],
      "authorship_tag": "ABX9TyN9ifnGl9El+L2K29H6x6KP",
      "include_colab_link": true
    },
    "kernelspec": {
      "name": "python3",
      "display_name": "Python 3"
    }
  },
  "cells": [
    {
      "cell_type": "markdown",
      "metadata": {
        "id": "view-in-github",
        "colab_type": "text"
      },
      "source": [
        "<a href=\"https://colab.research.google.com/github/xaviercheih/Computational-Thinking/blob/master/week14.ipynb\" target=\"_parent\"><img src=\"https://colab.research.google.com/assets/colab-badge.svg\" alt=\"Open In Colab\"/></a>"
      ]
    },
    {
      "cell_type": "code",
      "metadata": {
        "colab": {
          "base_uri": "https://localhost:8080/"
        },
        "id": "v6hHZ_b3hM1_",
        "outputId": "0987ac23-1cb7-448b-faa7-1ead07a36576"
      },
      "source": [
        "sheet = ['牛奶','蛋','咖啡豆']\n",
        "for index in range(len(sheet)): #位置索引[0,1,2]\n",
        "     print(index, sheet[index])\n"
      ],
      "execution_count": 2,
      "outputs": [
        {
          "output_type": "stream",
          "text": [
            "0 牛奶\n",
            "1 蛋\n",
            "2 咖啡豆\n"
          ],
          "name": "stdout"
        }
      ]
    },
    {
      "cell_type": "code",
      "metadata": {
        "id": "4j_1jZD-pBZi"
      },
      "source": [
        "people = [\"Mario\", \"Peach\", \"Luigi\", \"Daisy\", \"Toad\", \"Yoshi\"]\n",
        "dessert = [\"Star Pudding\", \"Peach Pie\", \"Popsicles\", \"Honey Cake\", \"Cookies\", \"Jelly Beans\"]"
      ],
      "execution_count": 5,
      "outputs": []
    },
    {
      "cell_type": "code",
      "metadata": {
        "colab": {
          "base_uri": "https://localhost:8080/"
        },
        "id": "WvvrCl77tnCq",
        "outputId": "4da987f6-3b67-43c6-a54a-221cd5ac0270"
      },
      "source": [
        "for i in range(1,10): # 控制輸出幾行\n",
        "    for j in range(1,10): # 每行輸出多少個\n",
        "      # 依序將「變數i* 變數j = 變數i 與j 相乘結果」顯示在螢幕\n",
        "      # 串接tab,設定sep與end為空字串。 \n",
        "        print(i, '*', j, '=', i*j, '\\t', sep='',end='')\n",
        "        print() # 每行輸出後換行"
      ],
      "execution_count": 9,
      "outputs": [
        {
          "output_type": "stream",
          "text": [
            "1*1=1\t\n",
            "1*2=2\t\n",
            "1*3=3\t\n",
            "1*4=4\t\n",
            "1*5=5\t\n",
            "1*6=6\t\n",
            "1*7=7\t\n",
            "1*8=8\t\n",
            "1*9=9\t\n",
            "2*1=2\t\n",
            "2*2=4\t\n",
            "2*3=6\t\n",
            "2*4=8\t\n",
            "2*5=10\t\n",
            "2*6=12\t\n",
            "2*7=14\t\n",
            "2*8=16\t\n",
            "2*9=18\t\n",
            "3*1=3\t\n",
            "3*2=6\t\n",
            "3*3=9\t\n",
            "3*4=12\t\n",
            "3*5=15\t\n",
            "3*6=18\t\n",
            "3*7=21\t\n",
            "3*8=24\t\n",
            "3*9=27\t\n",
            "4*1=4\t\n",
            "4*2=8\t\n",
            "4*3=12\t\n",
            "4*4=16\t\n",
            "4*5=20\t\n",
            "4*6=24\t\n",
            "4*7=28\t\n",
            "4*8=32\t\n",
            "4*9=36\t\n",
            "5*1=5\t\n",
            "5*2=10\t\n",
            "5*3=15\t\n",
            "5*4=20\t\n",
            "5*5=25\t\n",
            "5*6=30\t\n",
            "5*7=35\t\n",
            "5*8=40\t\n",
            "5*9=45\t\n",
            "6*1=6\t\n",
            "6*2=12\t\n",
            "6*3=18\t\n",
            "6*4=24\t\n",
            "6*5=30\t\n",
            "6*6=36\t\n",
            "6*7=42\t\n",
            "6*8=48\t\n",
            "6*9=54\t\n",
            "7*1=7\t\n",
            "7*2=14\t\n",
            "7*3=21\t\n",
            "7*4=28\t\n",
            "7*5=35\t\n",
            "7*6=42\t\n",
            "7*7=49\t\n",
            "7*8=56\t\n",
            "7*9=63\t\n",
            "8*1=8\t\n",
            "8*2=16\t\n",
            "8*3=24\t\n",
            "8*4=32\t\n",
            "8*5=40\t\n",
            "8*6=48\t\n",
            "8*7=56\t\n",
            "8*8=64\t\n",
            "8*9=72\t\n",
            "9*1=9\t\n",
            "9*2=18\t\n",
            "9*3=27\t\n",
            "9*4=36\t\n",
            "9*5=45\t\n",
            "9*6=54\t\n",
            "9*7=63\t\n",
            "9*8=72\t\n",
            "9*9=81\t\n"
          ],
          "name": "stdout"
        }
      ]
    }
  ]
}