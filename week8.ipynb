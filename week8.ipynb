{
  "nbformat": 4,
  "nbformat_minor": 0,
  "metadata": {
    "colab": {
      "name": "week8.ipynb",
      "provenance": [],
      "authorship_tag": "ABX9TyPxfugB0wDMxQllXZ99avVc",
      "include_colab_link": true
    },
    "kernelspec": {
      "name": "python3",
      "display_name": "Python 3"
    }
  },
  "cells": [
    {
      "cell_type": "markdown",
      "metadata": {
        "id": "view-in-github",
        "colab_type": "text"
      },
      "source": [
        "<a href=\"https://colab.research.google.com/github/xaviercheih/Computational-Thinking/blob/master/week8.ipynb\" target=\"_parent\"><img src=\"https://colab.research.google.com/assets/colab-badge.svg\" alt=\"Open In Colab\"/></a>"
      ]
    },
    {
      "cell_type": "code",
      "metadata": {
        "id": "762hWOT1bk8C",
        "outputId": "080f7904-5d12-464c-d78d-e80f9637be99",
        "colab": {
          "base_uri": "https://localhost:8080/"
        }
      },
      "source": [
        "coat = int(input('請輸入上衣數量'))\n",
        "pants = int(input('請輸入褲子數量'))\n",
        "vest = int(input('請輸入背心數量'))\n",
        "\n",
        "\n"
      ],
      "execution_count": 13,
      "outputs": [
        {
          "output_type": "stream",
          "text": [
            "請輸入上衣數量100\n",
            "請輸入褲子數量200\n",
            "請輸入背心數量300\n"
          ],
          "name": "stdout"
        }
      ]
    },
    {
      "cell_type": "code",
      "metadata": {
        "id": "Q-BqcMrUiLXq",
        "outputId": "77d6bfe2-b88c-4ab4-83bc-5d3f950dec53",
        "colab": {
          "base_uri": "https://localhost:8080/"
        }
      },
      "source": [
        "total＿dollar = coat*300 + pants*350 + vest*400\n",
        "print('訂購服裝總金額為',total＿dollar)"
      ],
      "execution_count": 18,
      "outputs": [
        {
          "output_type": "stream",
          "text": [
            "訂購服裝總金額為 220000\n"
          ],
          "name": "stdout"
        }
      ]
    },
    {
      "cell_type": "code",
      "metadata": {
        "id": "K8i3H9FAkhWl",
        "outputId": "6af47bed-3570-4325-a560-679700f660ba",
        "colab": {
          "base_uri": "https://localhost:8080/"
        }
      },
      "source": [
        "can = int(input('請輸入購買飲料罐數'))"
      ],
      "execution_count": 23,
      "outputs": [
        {
          "output_type": "stream",
          "text": [
            "請輸入購買飲料罐數30\n"
          ],
          "name": "stdout"
        }
      ]
    },
    {
      "cell_type": "code",
      "metadata": {
        "id": "P20-bBngkvuN",
        "outputId": "212737c8-80a9-46d2-bed1-e339b6c8aaa3",
        "colab": {
          "base_uri": "https://localhost:8080/"
        }
      },
      "source": [
        "total＿dollar = (can//12)*200 + (can%12)*20\n",
        "print('需花費金額',total＿dollar)"
      ],
      "execution_count": 24,
      "outputs": [
        {
          "output_type": "stream",
          "text": [
            "需花費金額 520\n"
          ],
          "name": "stdout"
        }
      ]
    },
    {
      "cell_type": "code",
      "metadata": {
        "id": "8FPqJsFzlS96",
        "outputId": "c9675b89-4c36-4dd8-fd8b-187068d6ffa8",
        "colab": {
          "base_uri": "https://localhost:8080/"
        }
      },
      "source": [
        "fir = int(input('請輸入第一次期中考成績'))\n",
        "sec = int(input('請輸入第二次期中考成績'))\n",
        "final = int(input('請輸入期末考成績'))\n"
      ],
      "execution_count": 25,
      "outputs": [
        {
          "output_type": "stream",
          "text": [
            "請輸入第一次期中考成績95\n",
            "請輸入第二次期中考成績88\n",
            "請輸入期末考成績97\n"
          ],
          "name": "stdout"
        }
      ]
    },
    {
      "cell_type": "code",
      "metadata": {
        "id": "OzXRUitHmbzH",
        "outputId": "c1697f11-7736-44c6-da4b-7dc42faab232",
        "colab": {
          "base_uri": "https://localhost:8080/"
        }
      },
      "source": [
        "sum = fir + sec + final\n",
        "avg = sum/3\n",
        "print('總分為',sum,'平均為',avg)"
      ],
      "execution_count": 27,
      "outputs": [
        {
          "output_type": "stream",
          "text": [
            "總分為 280 平均為 93.33333333333333\n"
          ],
          "name": "stdout"
        }
      ]
    }
  ]
}